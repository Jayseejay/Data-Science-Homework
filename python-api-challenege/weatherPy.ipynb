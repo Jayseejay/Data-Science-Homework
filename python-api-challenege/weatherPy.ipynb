{
 "cells": [
  {
   "cell_type": "code",
   "execution_count": 1,
   "metadata": {},
   "outputs": [
    {
     "data": {
      "text/plain": [
       "'91802d99ed8a79347ba423f816916bd8'"
      ]
     },
     "execution_count": 1,
     "metadata": {},
     "output_type": "execute_result"
    }
   ],
   "source": [
    "import requests\n",
    "import json\n",
    "import pandas as pd\n",
    "import matplotlib as pyplot\n",
    "from config import api_key\n",
    "from pprint import pprint\n",
    "from random import uniform\n",
    "from citipy import citipy\n",
    "api_key"
   ]
  },
  {
   "cell_type": "code",
   "execution_count": 2,
   "metadata": {},
   "outputs": [
    {
     "data": {
      "text/plain": [
       "'http://api.openweathermap.org/data/2.5/weather?appid=91802d99ed8a79347ba423f816916bd8&q=Los Angeles'"
      ]
     },
     "execution_count": 2,
     "metadata": {},
     "output_type": "execute_result"
    }
   ],
   "source": [
    "#Build the query\n",
    "cities = \"Los Angeles\"\n",
    "base_url = \"http://api.openweathermap.org/data/2.5/weather?\"\n",
    "query_url = f\"{base_url}appid={api_key}&q={cities}\"\n",
    "query_url"
   ]
  },
  {
   "cell_type": "code",
   "execution_count": 3,
   "metadata": {},
   "outputs": [],
   "source": [
    "city_requests = requests.get(query_url)\n",
    "city_response = city_requests.json()\n",
    "city_requests\n",
    "cities = []\n",
    "feels_like_list = []"
   ]
  },
  {
   "cell_type": "code",
   "execution_count": null,
   "metadata": {},
   "outputs": [
    {
     "name": "stdout",
     "output_type": "stream",
     "text": [
      "city genereated: punta arenas,cl\n",
      " \n",
      "city genereated: bethel,us\n",
      " \n",
      "city genereated: bluff,nz\n",
      " \n",
      "city genereated: palmer,us\n",
      " \n",
      "city genereated: albany,au\n",
      " \n",
      "city genereated: ushuaia,ar\n",
      " \n",
      "city genereated: butaritari,ki\n",
      " \n",
      "city genereated: sribne,ua\n",
      " \n",
      "city genereated: puerto madryn,ar\n",
      " \n",
      "city genereated: hobart,au\n"
     ]
    }
   ],
   "source": [
    "while len(cities) < 501:\n",
    "    long = round(uniform(-180, 180), 3)\n",
    "    lat = round(uniform(-90, 90), 3)\n",
    "    city = citipy.nearest_city(lat, long)\n",
    "    city_name = city.city_name\n",
    "    country_code = city.country_code\n",
    "    \n",
    "    city_entry =f\"{city_name},{country_code}\"\n",
    "    if city_entry not in cities:\n",
    "        cities.append(city_entry)\n",
    "        print(f\"city genereated: {city_entry}\")\n",
    "        query_url = base_url + \"appid=\" + api_key + \"&q=\" + city_entry + \"?\" +\"&units=metrics\"\n",
    "#         print(f'processing request for {query_url}')\n",
    "        \n",
    "     \n",
    "        \n",
    "        city_requests = requests.get(query_url)\n",
    "        city_response = city_requests.json()\n",
    "        city_json = json.dumps(city_response, indent=4, sort_keys=True)\n",
    "        print(city_json[2])\n",
    "   "
   ]
  },
  {
   "cell_type": "code",
   "execution_count": null,
   "metadata": {},
   "outputs": [],
   "source": []
  },
  {
   "cell_type": "code",
   "execution_count": null,
   "metadata": {},
   "outputs": [],
   "source": [
    "#show count\n",
    "cities_df.count()"
   ]
  },
  {
   "cell_type": "code",
   "execution_count": null,
   "metadata": {},
   "outputs": [],
   "source": []
  },
  {
   "cell_type": "code",
   "execution_count": null,
   "metadata": {},
   "outputs": [],
   "source": []
  },
  {
   "cell_type": "code",
   "execution_count": null,
   "metadata": {},
   "outputs": [],
   "source": []
  }
 ],
 "metadata": {
  "kernelspec": {
   "display_name": "Python 3",
   "language": "python",
   "name": "python3"
  },
  "language_info": {
   "codemirror_mode": {
    "name": "ipython",
    "version": 3
   },
   "file_extension": ".py",
   "mimetype": "text/x-python",
   "name": "python",
   "nbconvert_exporter": "python",
   "pygments_lexer": "ipython3",
   "version": "3.8.3"
  }
 },
 "nbformat": 4,
 "nbformat_minor": 4
}
